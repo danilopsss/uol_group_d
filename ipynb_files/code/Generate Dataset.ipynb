{
 "cells": [
  {
   "cell_type": "markdown",
   "id": "1107af1a",
   "metadata": {},
   "source": [
    "### Download File"
   ]
  },
  {
   "cell_type": "markdown",
   "id": "d6fd9554",
   "metadata": {},
   "source": [
    "# Air Quality and Pollution Terms\n",
    "\n",
    "## 1. NOx (Nitrogen Oxides)\n",
    "- Refers to a group of gases composed of nitrogen and oxygen.\n",
    "- The most common nitrogen oxides are nitrogen dioxide (NO2) and nitric oxide (NO).\n",
    "- Produced from vehicle emissions, industrial processes, and combustion of fossil fuels.\n",
    "- Contributes to the formation of smog and can have harmful effects on human health and the environment.\n",
    "\n",
    "## 2. NO2 (Nitrogen Dioxide)\n",
    "- A specific type of nitrogen oxide.\n",
    "- Reddish-brown gas with a characteristic sharp, biting odor.\n",
    "- Primarily produced from burning fossil fuels.\n",
    "- A significant air pollutant that can irritate the respiratory system and is associated with health problems, including asthma and other lung diseases.\n",
    "\n",
    "## 3. PM10 (Particulate Matter 10 micrometers or less)\n",
    "- Refers to particulate matter that is 10 micrometers or smaller in diameter.\n",
    "- Can include dust, pollen, soot, and smoke.\n",
    "- Can be inhaled and may cause health issues, particularly respiratory problems, as they can penetrate the lungs.\n",
    "\n",
    "## 4. PM2.5 (Particulate Matter 2.5 micrometers or less)\n",
    "- Consists of finer particulate matter that is 2.5 micrometers or smaller.\n",
    "- Originates from various sources, including vehicle emissions, industrial processes, and natural sources like wildfires.\n",
    "- Particularly concerning for health as it can penetrate deep into the lungs and enter the bloodstream, leading to serious health effects, including cardiovascular and respiratory diseases.\n",
    "\n",
    "# Generate the dataset\n",
    "\n",
    "Run all the cells in order to generate a directory in your local machine with the proper and formatted dataset.\n",
    "\n"
   ]
  },
  {
   "cell_type": "markdown",
   "id": "22fc1ea6",
   "metadata": {},
   "source": [
    "#### Installs"
   ]
  },
  {
   "cell_type": "code",
   "execution_count": null,
   "id": "7b3ec678",
   "metadata": {},
   "outputs": [],
   "source": [
    "!pip install requests pandas scikit_learn openpyxl"
   ]
  },
  {
   "cell_type": "markdown",
   "id": "d08e5786",
   "metadata": {},
   "source": [
    "#### Method for downloading the file\n"
   ]
  },
  {
   "cell_type": "code",
   "execution_count": 5,
   "id": "476e2119-be9b-46b9-bc61-1228028de632",
   "metadata": {},
   "outputs": [],
   "source": [
    "import requests\n",
    "from tempfile import TemporaryDirectory\n",
    "\n",
    "emissions_url_excel = \"https://data.london.gov.uk/download/london-atmospheric-emissions-inventory--laei--2019/17d21cd1-892e-4388-9fea-b48c1b61ee3c/LAEI-2019-Emissions-Summary-including-Forecast.zipc\"\n",
    "\n",
    "def download_dataset(url):\n",
    "    tempdir = TemporaryDirectory(prefix=\"downloaded\", suffix=\"datasets\", dir=\".\")\n",
    "    with requests.get(url) as response:\n",
    "        with open(f\"{tempdir.name}/datasets.zip\", \"wb\") as f:\n",
    "            f.write(response.content)\n",
    "    return tempdir"
   ]
  },
  {
   "cell_type": "markdown",
   "id": "ca2accf8",
   "metadata": {},
   "source": [
    "### Extract the file"
   ]
  },
  {
   "cell_type": "code",
   "execution_count": 6,
   "id": "b4f6ebe9",
   "metadata": {},
   "outputs": [],
   "source": [
    "from zipfile import ZipFile\n",
    "\n",
    "def unzip(path):\n",
    "    with ZipFile(f\"{path}/datasets.zip\") as zipf:\n",
    "        zipf.extractall(path)"
   ]
  },
  {
   "cell_type": "markdown",
   "id": "fb834013",
   "metadata": {},
   "source": [
    "### Preparation"
   ]
  },
  {
   "cell_type": "code",
   "execution_count": 9,
   "id": "fa0cd732-e18e-452c-b75c-c29061b3f78e",
   "metadata": {},
   "outputs": [],
   "source": [
    "import pandas\n",
    "from pathlib import Path\n",
    "\n",
    "dir_ = download_dataset(emissions_url_excel)\n",
    "unzip(dir_.name)\n",
    "files = Path(\".\").rglob(\"**/*/*.xlsx\")\n",
    "file = pandas.read_excel(next(files).as_posix(), sheet_name=\"Emissions by Grid ID\")"
   ]
  },
  {
   "cell_type": "markdown",
   "id": "77e2059b",
   "metadata": {},
   "source": [
    "#### Filling missing values with the mean"
   ]
  },
  {
   "cell_type": "code",
   "execution_count": 15,
   "id": "615b736e-c9b4-43eb-9009-56f189a0a2c3",
   "metadata": {},
   "outputs": [],
   "source": [
    "key_pollutants = [\"nox\", \"n2o\", \"pm10\", \"pm2.5\", \"co2\"]\n",
    "filled_na_with_mean = file[file.Year < 2020].copy()\n",
    "\n",
    "for column in key_pollutants:\n",
    "    colmean = filled_na_with_mean[column].mean()\n",
    "    filled_na_with_mean[column] = filled_na_with_mean[column].fillna(colmean)"
   ]
  },
  {
   "cell_type": "markdown",
   "id": "333ab6d3",
   "metadata": {},
   "source": [
    "#### Exporting the file"
   ]
  },
  {
   "cell_type": "code",
   "execution_count": 16,
   "id": "905cd0e4-0716-4789-acb0-bb896931a701",
   "metadata": {},
   "outputs": [],
   "source": [
    "group_columns = [\"Year\", \"Sector\", *key_pollutants]\n",
    "\n",
    "filled_na_with_mean[group_columns]\\\n",
    ".groupby(by=[\"Year\", \"Sector\"])\\\n",
    ".sum()\\\n",
    ".reset_index()\\\n",
    ".to_csv(f\"{dir_.name}/LAEI_2019_NA_FILLED_WITH_MEAN.csv\", index=False)"
   ]
  },
  {
   "cell_type": "code",
   "execution_count": null,
   "id": "46574429-8c95-4ae2-b973-8bb5ff241b7b",
   "metadata": {},
   "outputs": [],
   "source": []
  }
 ],
 "metadata": {
  "kernelspec": {
   "display_name": "Python 3 (ipykernel)",
   "language": "python",
   "name": "python3"
  },
  "language_info": {
   "codemirror_mode": {
    "name": "ipython",
    "version": 3
   },
   "file_extension": ".py",
   "mimetype": "text/x-python",
   "name": "python",
   "nbconvert_exporter": "python",
   "pygments_lexer": "ipython3",
   "version": "3.11.7"
  }
 },
 "nbformat": 4,
 "nbformat_minor": 5
}
