{
 "cells": [
  {
   "cell_type": "markdown",
   "id": "1107af1a",
   "metadata": {},
   "source": [
    "### Download File"
   ]
  },
  {
   "cell_type": "markdown",
   "id": "d6fd9554",
   "metadata": {},
   "source": [
    "# Air Quality and Pollution Terms\n",
    "\n",
    "## 1. NOx (Nitrogen Oxides)\n",
    "- Refers to a group of gases composed of nitrogen and oxygen.\n",
    "- The most common nitrogen oxides are nitrogen dioxide (NO2) and nitric oxide (NO).\n",
    "- Produced from vehicle emissions, industrial processes, and combustion of fossil fuels.\n",
    "- Contributes to the formation of smog and can have harmful effects on human health and the environment.\n",
    "\n",
    "## 2. NO2 (Nitrogen Dioxide)\n",
    "- A specific type of nitrogen oxide.\n",
    "- Reddish-brown gas with a characteristic sharp, biting odor.\n",
    "- Primarily produced from burning fossil fuels.\n",
    "- A significant air pollutant that can irritate the respiratory system and is associated with health problems, including asthma and other lung diseases.\n",
    "\n",
    "## 3. PM10 (Particulate Matter 10 micrometers or less)\n",
    "- Refers to particulate matter that is 10 micrometers or smaller in diameter.\n",
    "- Can include dust, pollen, soot, and smoke.\n",
    "- Can be inhaled and may cause health issues, particularly respiratory problems, as they can penetrate the lungs.\n",
    "\n",
    "## 4. PM2.5 (Particulate Matter 2.5 micrometers or less)\n",
    "- Consists of finer particulate matter that is 2.5 micrometers or smaller.\n",
    "- Originates from various sources, including vehicle emissions, industrial processes, and natural sources like wildfires.\n",
    "- Particularly concerning for health as it can penetrate deep into the lungs and enter the bloodstream, leading to serious health effects, including cardiovascular and respiratory diseases.\n",
    "\n"
   ]
  },
  {
   "cell_type": "markdown",
   "id": "22fc1ea6",
   "metadata": {},
   "source": [
    "#### Installs"
   ]
  },
  {
   "cell_type": "code",
   "execution_count": 1,
   "id": "7b3ec678",
   "metadata": {},
   "outputs": [
    {
     "name": "stdout",
     "output_type": "stream",
     "text": [
      "Looking in indexes: https://pypi.org/simple, https://pypi.ngc.nvidia.com\n",
      "Requirement already satisfied: requests in /Users/danilop/.asdf/installs/python/3.11.8/lib/python3.11/site-packages (2.31.0)\n",
      "Requirement already satisfied: pandas in /Users/danilop/.asdf/installs/python/3.11.8/lib/python3.11/site-packages (2.2.2)\n",
      "Requirement already satisfied: scikit_learn in /Users/danilop/.asdf/installs/python/3.11.8/lib/python3.11/site-packages (1.5.2)\n",
      "Requirement already satisfied: charset-normalizer<4,>=2 in /Users/danilop/.asdf/installs/python/3.11.8/lib/python3.11/site-packages (from requests) (3.3.2)\n",
      "Requirement already satisfied: idna<4,>=2.5 in /Users/danilop/.asdf/installs/python/3.11.8/lib/python3.11/site-packages (from requests) (3.6)\n",
      "Requirement already satisfied: urllib3<3,>=1.21.1 in /Users/danilop/.asdf/installs/python/3.11.8/lib/python3.11/site-packages (from requests) (2.2.1)\n",
      "Requirement already satisfied: certifi>=2017.4.17 in /Users/danilop/.asdf/installs/python/3.11.8/lib/python3.11/site-packages (from requests) (2024.2.2)\n",
      "Requirement already satisfied: numpy>=1.23.2 in /Users/danilop/.asdf/installs/python/3.11.8/lib/python3.11/site-packages (from pandas) (1.26.4)\n",
      "Requirement already satisfied: python-dateutil>=2.8.2 in /Users/danilop/.asdf/installs/python/3.11.8/lib/python3.11/site-packages (from pandas) (2.9.0.post0)\n",
      "Requirement already satisfied: pytz>=2020.1 in /Users/danilop/.asdf/installs/python/3.11.8/lib/python3.11/site-packages (from pandas) (2024.1)\n",
      "Requirement already satisfied: tzdata>=2022.7 in /Users/danilop/.asdf/installs/python/3.11.8/lib/python3.11/site-packages (from pandas) (2024.1)\n",
      "Requirement already satisfied: scipy>=1.6.0 in /Users/danilop/.asdf/installs/python/3.11.8/lib/python3.11/site-packages (from scikit_learn) (1.14.1)\n",
      "Requirement already satisfied: joblib>=1.2.0 in /Users/danilop/.asdf/installs/python/3.11.8/lib/python3.11/site-packages (from scikit_learn) (1.4.2)\n",
      "Requirement already satisfied: threadpoolctl>=3.1.0 in /Users/danilop/.asdf/installs/python/3.11.8/lib/python3.11/site-packages (from scikit_learn) (3.5.0)\n",
      "Requirement already satisfied: six>=1.5 in /Users/danilop/.asdf/installs/python/3.11.8/lib/python3.11/site-packages (from python-dateutil>=2.8.2->pandas) (1.16.0)\n",
      "\n",
      "\u001b[1m[\u001b[0m\u001b[34;49mnotice\u001b[0m\u001b[1;39;49m]\u001b[0m\u001b[39;49m A new release of pip is available: \u001b[0m\u001b[31;49m24.0\u001b[0m\u001b[39;49m -> \u001b[0m\u001b[32;49m24.2\u001b[0m\n",
      "\u001b[1m[\u001b[0m\u001b[34;49mnotice\u001b[0m\u001b[1;39;49m]\u001b[0m\u001b[39;49m To update, run: \u001b[0m\u001b[32;49mpip install --upgrade pip\u001b[0m\n"
     ]
    }
   ],
   "source": [
    "!pip install requests pandas scikit_learn"
   ]
  },
  {
   "cell_type": "markdown",
   "id": "d08e5786",
   "metadata": {},
   "source": [
    "#### Method for downloading the file\n"
   ]
  },
  {
   "cell_type": "code",
   "execution_count": 2,
   "id": "476e2119-be9b-46b9-bc61-1228028de632",
   "metadata": {},
   "outputs": [],
   "source": [
    "import requests\n",
    "from tempfile import TemporaryDirectory\n",
    "\n",
    "emissions_url_excel = \"https://data.london.gov.uk/download/london-atmospheric-emissions-inventory--laei--2019/17d21cd1-892e-4388-9fea-b48c1b61ee3c/LAEI-2019-Emissions-Summary-including-Forecast.zipc\"\n",
    "\n",
    "def download_dataset(url):\n",
    "    tempdir = TemporaryDirectory(prefix=\"downloaded\", suffix=\"datasets\", dir=\".\")\n",
    "    with requests.get(url) as response:\n",
    "        with open(f\"{tempdir.name}/datasets.zip\", \"wb\") as f:\n",
    "            f.write(response.content)\n",
    "    return tempdir"
   ]
  },
  {
   "cell_type": "markdown",
   "id": "ca2accf8",
   "metadata": {},
   "source": [
    "### Extract the file"
   ]
  },
  {
   "cell_type": "code",
   "execution_count": 3,
   "id": "b4f6ebe9",
   "metadata": {},
   "outputs": [],
   "source": [
    "from zipfile import ZipFile\n",
    "\n",
    "def unzip(path):\n",
    "    with ZipFile(f\"{path}/datasets.zip\") as zipf:\n",
    "        zipf.extractall(path)"
   ]
  },
  {
   "cell_type": "markdown",
   "id": "fb834013",
   "metadata": {},
   "source": [
    "### Preparation"
   ]
  },
  {
   "cell_type": "code",
   "execution_count": 4,
   "id": "fa0cd732-e18e-452c-b75c-c29061b3f78e",
   "metadata": {},
   "outputs": [],
   "source": [
    "import pandas\n",
    "from pathlib import Path\n",
    "\n",
    "dir_ = download_dataset(emissions_url_excel)\n",
    "unzip(dir_.name)\n",
    "files = Path(\".\").rglob(\"**/*/*.xlsx\")\n",
    "file = pandas.read_excel(next(files).as_posix(), sheet_name=\"Emissions by Grid ID\")"
   ]
  },
  {
   "cell_type": "code",
   "execution_count": 8,
   "id": "f1533214-4fe2-412d-b31d-a37cb47ee9cb",
   "metadata": {},
   "outputs": [
    {
     "name": "stdout",
     "output_type": "stream",
     "text": [
      "<class 'pandas.core.frame.DataFrame'>\n",
      "RangeIndex: 699120 entries, 0 to 699119\n",
      "Data columns (total 30 columns):\n",
      " #   Column                Non-Null Count   Dtype  \n",
      "---  ------                --------------   -----  \n",
      " 0   Year                  699120 non-null  int64  \n",
      " 1   Grid ID 2019          699120 non-null  int64  \n",
      " 2   LAEI 1km2 ID          699120 non-null  int64  \n",
      " 3   Easting               699120 non-null  int64  \n",
      " 4   Northing              699120 non-null  int64  \n",
      " 5   Borough               699120 non-null  object \n",
      " 6   Zone                  699120 non-null  object \n",
      " 7   Main Source Category  699120 non-null  object \n",
      " 8   Sector                699120 non-null  object \n",
      " 9   Source                699120 non-null  object \n",
      " 10  bap                   162620 non-null  float64\n",
      " 11  cd                    128020 non-null  float64\n",
      " 12  c4h6                  186840 non-null  float64\n",
      " 13  c6h6                  217980 non-null  float64\n",
      " 14  ch4                   266420 non-null  float64\n",
      " 15  co                    266420 non-null  float64\n",
      " 16  co2                   536836 non-null  float64\n",
      " 17  hc                    34600 non-null   float64\n",
      " 18  hcl                   79580 non-null   float64\n",
      " 19  hg                    138400 non-null  float64\n",
      " 20  n2o                   186840 non-null  float64\n",
      " 21  nh3                   162620 non-null  float64\n",
      " 22  nmvoc                 276800 non-null  float64\n",
      " 23  nox                   595656 non-null  float64\n",
      " 24  pb                    138400 non-null  float64\n",
      " 25  pcb                   134940 non-null  float64\n",
      " 26  pm10                  681820 non-null  float64\n",
      " 27  pm2.5                 681820 non-null  float64\n",
      " 28  so2                   193760 non-null  float64\n",
      " 29  Emissions Unit        699120 non-null  object \n",
      "dtypes: float64(19), int64(5), object(6)\n",
      "memory usage: 160.0+ MB\n"
     ]
    }
   ],
   "source": [
    "file.info()\n",
    "# Here we have all the required columns and some extra ones with multiple null values\n",
    "# nox, no2, pm10, pm2.5\n"
   ]
  },
  {
   "cell_type": "markdown",
   "id": "77e2059b",
   "metadata": {},
   "source": [
    "#### Filling missing values with the mean"
   ]
  },
  {
   "cell_type": "code",
   "execution_count": 14,
   "id": "615b736e-c9b4-43eb-9009-56f189a0a2c3",
   "metadata": {},
   "outputs": [],
   "source": [
    "key_pollutants = [\"nox\", \"n2o\", \"pm10\", \"pm2.5\", \"co2\"]\n",
    "filled_na_with_mean = file[file.Year > 2019].copy()\n",
    "\n",
    "for column in key_pollutants:\n",
    "    colmean = filled_na_with_mean[column].mean()\n",
    "    filled_na_with_mean[column] = filled_na_with_mean[column].fillna(colmean)"
   ]
  },
  {
   "cell_type": "markdown",
   "id": "333ab6d3",
   "metadata": {},
   "source": [
    "#### Filling missing values with the median"
   ]
  },
  {
   "cell_type": "code",
   "execution_count": 15,
   "id": "6b5333f6",
   "metadata": {},
   "outputs": [],
   "source": [
    "filled_na_with_median = file[file.Year < 2020].copy()\n",
    "for column in key_pollutants:\n",
    "    colmedian = filled_na_with_median[column].median()\n",
    "    filled_na_with_median[column] = filled_na_with_median[column].fillna(colmean)"
   ]
  },
  {
   "cell_type": "code",
   "execution_count": 19,
   "id": "905cd0e4-0716-4789-acb0-bb896931a701",
   "metadata": {},
   "outputs": [],
   "source": [
    "group_columns = [\"Year\", \"Sector\", *key_pollutants]\n",
    "\n",
    "filled_na_with_mean[group_columns]\\\n",
    ".groupby(by=[\"Year\", \"Sector\"])\\\n",
    ".sum()\\\n",
    ".reset_index()\\\n",
    ".to_csv(f\"{dir_.name}/LAEI_2019_NA_FILLED_WITH_MEAN.csv\", index=False)\n",
    "\n",
    "# filled_na_with_median[group_columns]\\\n",
    "# .groupby(by=[\"Year\", \"Sector\"])\\\n",
    "# .sum()\\\n",
    "# .reset_index()\\\n",
    "# .to_csv(f\"{dir_.name}/LAEI_2019_NA_FILLED_WITH_MEDIAN.csv\", index=False)\n",
    "\n",
    "file[file.Year > 2019][group_columns]\\\n",
    ".groupby(by=[\"Year\", \"Sector\"])\\\n",
    ".sum()\\\n",
    ".reset_index()\\\n",
    ".to_csv(f\"{dir_.name}/LAEI_2019_TEST_DATA.csv\", index=False)"
   ]
  },
  {
   "cell_type": "code",
   "execution_count": null,
   "id": "46574429-8c95-4ae2-b973-8bb5ff241b7b",
   "metadata": {},
   "outputs": [],
   "source": []
  }
 ],
 "metadata": {
  "kernelspec": {
   "display_name": "[SL]LMs",
   "language": "python",
   "name": "python3"
  },
  "language_info": {
   "codemirror_mode": {
    "name": "ipython",
    "version": 3
   },
   "file_extension": ".py",
   "mimetype": "text/x-python",
   "name": "python",
   "nbconvert_exporter": "python",
   "pygments_lexer": "ipython3",
   "version": "3.11.8"
  }
 },
 "nbformat": 4,
 "nbformat_minor": 5
}
