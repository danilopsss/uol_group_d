{
 "cells": [
  {
   "cell_type": "code",
   "execution_count": 14,
   "id": "c2d89f1d-7ee2-4495-9ae5-6a957661c66f",
   "metadata": {},
   "outputs": [
    {
     "name": "stdout",
     "output_type": "stream",
     "text": [
      "Data with Mean Imputation:\n",
      "    Year              Sector          nox         n2o        pm10       pm2.5  \\\n",
      "0  2025    Accidental Fires    17.258441   53.946697   71.915973   66.742782   \n",
      "1  2025         Agriculture   203.303679  210.885332   42.031963   15.701566   \n",
      "2  2025            Aviation  3795.035535   53.946697   55.967384   45.304076   \n",
      "3  2025             Biomass   785.040736   53.946697  615.931169  615.931169   \n",
      "4  2025  Commercial Cooking   785.040736   53.946697  510.625152  510.625152   \n",
      "\n",
      "             co2  \n",
      "0  807486.524214  \n",
      "1    7464.299415  \n",
      "2  979096.462843  \n",
      "3  807486.524214  \n",
      "4  807486.524214  \n"
     ]
    }
   ],
   "source": [
    "import pandas as pd\n",
    "\n",
    "# Define file paths\n",
    "file_mean = \"/Users/dianenacario/scikit_learn_data/downloadedapih4apcdatasets/LAEI_2019_NA_FILLED_WITH_MEAN.csv\"\n",
    "\n",
    "# Load the datasets\n",
    "mean_df = pd.read_csv(file_mean)\n",
    "\n",
    "# Check the first few rows of each dataset\n",
    "print(\"Data with Mean Imputation:\\n\", mean_df.head())"
   ]
  },
  {
   "cell_type": "code",
   "execution_count": 15,
   "id": "e36fb2ac-cee9-4224-a633-8e462085532c",
   "metadata": {},
   "outputs": [
    {
     "name": "stdout",
     "output_type": "stream",
     "text": [
      "Filtered Data (Mean Imputation):\n",
      "    Year              Sector          nox         n2o        pm10       pm2.5  \\\n",
      "0  2025    Accidental Fires    17.258441   53.946697   71.915973   66.742782   \n",
      "1  2025         Agriculture   203.303679  210.885332   42.031963   15.701566   \n",
      "2  2025            Aviation  3795.035535   53.946697   55.967384   45.304076   \n",
      "3  2025             Biomass   785.040736   53.946697  615.931169  615.931169   \n",
      "4  2025  Commercial Cooking   785.040736   53.946697  510.625152  510.625152   \n",
      "\n",
      "             co2  \n",
      "0  807486.524214  \n",
      "1    7464.299415  \n",
      "2  979096.462843  \n",
      "3  807486.524214  \n",
      "4  807486.524214  \n"
     ]
    }
   ],
   "source": [
    "# Filter dataset to include only years 2013, 2016, and 2019 for training\n",
    "train_data_mean = mean_df[mean_df['Year'].isin([2025, 2030])]\n",
    "\n",
    "# Check if filtering worked\n",
    "print(\"Filtered Data (Mean Imputation):\\n\", train_data_mean.head())"
   ]
  },
  {
   "cell_type": "code",
   "execution_count": 16,
   "id": "3529d508-5177-4d0c-8d5e-8f5c892868c0",
   "metadata": {},
   "outputs": [],
   "source": [
    "# Fill missing values with the mean for the mean-imputed dataset\n",
    "for col in [\"nox\", \"pm10\", \"pm2.5\", \"co2\"]:\n",
    "    train_data_mean.loc[:, col] = train_data_mean[col].fillna(train_data_mean[col].mean())"
   ]
  },
  {
   "cell_type": "code",
   "execution_count": 19,
   "id": "f48d1438-31b5-4926-a223-d90d1014afb9",
   "metadata": {},
   "outputs": [],
   "source": [
    "### Prepare Data for Model Training\n",
    "# Define the year for training and testing\n",
    "year = 2025\n",
    "\n",
    "# Define the pollutants to predict\n",
    "pollutants = [\"nox\", \"pm10\", \"pm2.5\", \"co2\"]\n",
    "\n",
    "# Prepare the features (X) by dropping target variables and Year\n",
    "X_train_mean = train_data_mean[train_data_mean[\"Year\"] == year].drop(columns=pollutants + [\"Year\"])\n",
    "X_test_mean = train_data_mean[train_data_mean[\"Year\"] == year].drop(columns=pollutants + [\"Year\"])\n",
    "\n",
    "# Prepare the target variables (y) for both the training and testing sets\n",
    "# Using a dictionary to store the targets for each pollutant\n",
    "y_train_mean = {pollutant: train_data_mean[train_data_mean[\"Year\"] == year][pollutant] for pollutant in pollutants}\n",
    "y_test_mean = {pollutant: train_data_mean[train_data_mean[\"Year\"] == year][pollutant] for pollutant in pollutants}\n"
   ]
  },
  {
   "cell_type": "code",
   "execution_count": 21,
   "id": "a3ab5d20-5abe-42c7-9cfa-0b128da875a8",
   "metadata": {},
   "outputs": [],
   "source": [
    "# Prepare the target variables (y) for both the training and testing sets\n",
    "pollutants = [\"nox\", \"pm10\", \"pm2.5\", \"co2\"]\n",
    "\n",
    "y_train_mean = {pollutant: train_data_mean[train_data_mean[\"Year\"] == train_years][pollutant] for pollutant in pollutants}\n",
    "y_test_mean = {pollutant: train_data_mean[train_data_mean[\"Year\"] == test_year][pollutant] for pollutant in pollutants}"
   ]
  },
  {
   "cell_type": "code",
   "execution_count": 22,
   "id": "2ad1cdcb-325b-4f1d-be59-10a5028b9802",
   "metadata": {},
   "outputs": [
    {
     "name": "stdout",
     "output_type": "stream",
     "text": [
      "Training and saving completed for pollutant: nox\n",
      "Training and saving completed for pollutant: pm10\n",
      "Training and saving completed for pollutant: pm2.5\n",
      "Training and saving completed for pollutant: co2\n"
     ]
    }
   ],
   "source": [
    "from sklearn.ensemble import RandomForestRegressor\n",
    "from sklearn.metrics import mean_squared_error, r2_score\n",
    "import pandas as pd\n",
    "import joblib  # To save the models\n",
    "\n",
    "# Define pollutants to train the model for\n",
    "pollutants = [\"nox\", \"pm10\", \"pm2.5\", \"co2\"]\n",
    "\n",
    "# Function to train and save Random Forest for each pollutant\n",
    "def train_rf_for_all_pollutants(X_train_mean, train_data_mean, pollutants, year):\n",
    "    # Store the models for each pollutant\n",
    "    models_mean = {}\n",
    "\n",
    "    for pollutant in pollutants:\n",
    "        # Prepare the target variable for the current pollutant\n",
    "        y_train_mean = train_data_mean[train_data_mean[\"Year\"] == year][pollutant]\n",
    "\n",
    "        # Apply One-Hot Encoding to the training sets\n",
    "        X_train_mean_encoded = pd.get_dummies(X_train_mean, drop_first=True)\n",
    "\n",
    "        # Train the model using the mean-imputed dataset\n",
    "        rf_model_mean = RandomForestRegressor(n_estimators=100, random_state=42)\n",
    "        rf_model_mean.fit(X_train_mean_encoded, y_train_mean)\n",
    "        models_mean[pollutant] = rf_model_mean  # Save the trained model\n",
    "        \n",
    "        # Save the mean-imputed model to disk\n",
    "        joblib.dump(rf_model_mean, f'rf_model_mean_{pollutant}.pkl')\n",
    "\n",
    "        print(f\"Training and saving completed for pollutant: {pollutant}\")\n",
    "\n",
    "    return models_mean\n",
    "\n",
    "# Define the year for training (since you only have 2025)\n",
    "year = 2025\n",
    "\n",
    "# Prepare the training features (X_train) from 2025\n",
    "X_train_mean = train_data_mean[train_data_mean[\"Year\"] == year].drop(columns=pollutants + [\"Year\"])\n",
    "\n",
    "# Train Random Forest models for each pollutant and save them\n",
    "models_mean = train_rf_for_all_pollutants(X_train_mean, train_data_mean, pollutants, year)\n"
   ]
  },
  {
   "cell_type": "code",
   "execution_count": 26,
   "id": "604eb887-1ee8-47e8-b169-f0ad0c6c5dc4",
   "metadata": {},
   "outputs": [
    {
     "name": "stdout",
     "output_type": "stream",
     "text": [
      "Loading dataset...\n",
      "Dataset loaded successfully!\n",
      "Loading models...\n",
      "Models loaded successfully!\n",
      "Generating input features for 2025...\n",
      "Aligning columns with the training set encoding...\n",
      "Predicting pollutant levels for 2025...\n",
      "Displaying predictions for 2025...\n",
      "Predicted nox for 2025 (Mean Imputed): 677.4906096278188\n",
      "Predicted pm10 for 2025 (Mean Imputed): 193.18715964770374\n",
      "Predicted pm2.5 for 2025 (Mean Imputed): 80.36792450569972\n",
      "Predicted co2 for 2025 (Mean Imputed): 504409.72351702576\n",
      "Prediction completed successfully!\n"
     ]
    }
   ],
   "source": [
    "import pandas as pd\n",
    "import numpy as np\n",
    "import joblib\n",
    "import sys\n",
    "\n",
    "# Optionally increase recursion limit if necessary\n",
    "sys.setrecursionlimit(10000)\n",
    "\n",
    "# Define file path for the mean-imputed dataset\n",
    "file_mean = \"/Users/dianenacario/scikit_learn_data/downloadedapih4apcdatasets/LAEI_2019_NA_FILLED_WITH_MEAN.csv\"\n",
    "\n",
    "# Reload the dataset\n",
    "print(\"Loading dataset...\")\n",
    "train_data_mean = pd.read_csv(file_mean)\n",
    "print(\"Dataset loaded successfully!\")\n",
    "\n",
    "# Define pollutants to predict\n",
    "pollutants = [\"nox\", \"pm10\", \"pm2.5\", \"co2\"]\n",
    "\n",
    "# Load the trained models from the saved files\n",
    "models_mean = {}\n",
    "\n",
    "print(\"Loading models...\")\n",
    "for pollutant in pollutants:\n",
    "    models_mean[pollutant] = joblib.load(f'rf_model_mean_{pollutant}.pkl')\n",
    "print(\"Models loaded successfully!\")\n",
    "\n",
    "# Generate input features for 2025 using the mean of the historical data (since only 2025 is available)\n",
    "print(\"Generating input features for 2025...\")\n",
    "\n",
    "# Select the relevant data for 2025, excluding pollutants and Year\n",
    "X_train_mean = train_data_mean[train_data_mean[\"Year\"] == 2025].drop(columns=pollutants + [\"Year\"])\n",
    "\n",
    "# Calculate mean for the numeric columns for 2025 features\n",
    "numeric_cols = X_train_mean.select_dtypes(include=[np.number]).columns.tolist()\n",
    "\n",
    "# Create 2025 numeric features\n",
    "X_2025_mean_numeric = X_train_mean[numeric_cols].mean().values.reshape(1, -1)\n",
    "\n",
    "# Convert the numeric data for prediction\n",
    "X_2025_mean_encoded = pd.DataFrame(X_2025_mean_numeric, columns=numeric_cols)\n",
    "\n",
    "# Align the columns to match the model's input columns\n",
    "print(\"Aligning columns with the training set encoding...\")\n",
    "\n",
    "# Retrieve the feature names the model was trained on\n",
    "trained_feature_names = models_mean['nox'].feature_names_in_\n",
    "\n",
    "def align_features(X_2025, trained_feature_names):\n",
    "    # Add missing features with default values (e.g., 0)\n",
    "    missing_features = set(trained_feature_names) - set(X_2025.columns)\n",
    "    for feature in missing_features:\n",
    "        X_2025[feature] = 0\n",
    "    \n",
    "    # Ensure the columns are in the same order as trained features\n",
    "    X_2025 = X_2025[trained_feature_names]\n",
    "    return X_2025\n",
    "\n",
    "# Align the encoded dataset for 2025\n",
    "X_2025_mean_encoded_aligned = align_features(X_2025_mean_encoded, trained_feature_names)\n",
    "\n",
    "# Predict pollutant levels for 2025 using the mean-imputed models\n",
    "predictions_2025_mean = {}\n",
    "\n",
    "print(\"Predicting pollutant levels for 2025...\")\n",
    "for pollutant in pollutants:\n",
    "    # Predict using the mean-imputed model\n",
    "    predictions_2025_mean[pollutant] = models_mean[pollutant].predict(X_2025_mean_encoded_aligned)\n",
    "\n",
    "# Display predictions for each pollutant\n",
    "print(\"Displaying predictions for 2025...\")\n",
    "for pollutant in pollutants:\n",
    "    print(f\"Predicted {pollutant} for 2025 (Mean Imputed): {predictions_2025_mean[pollutant][0]}\")\n",
    "\n",
    "print(\"Prediction completed successfully!\")\n"
   ]
  },
  {
   "cell_type": "code",
   "execution_count": null,
   "id": "02d3d6e2-f77c-4b9f-aafa-cac05ce6b399",
   "metadata": {},
   "outputs": [],
   "source": []
  }
 ],
 "metadata": {
  "kernelspec": {
   "display_name": "Python 3 (ipykernel)",
   "language": "python",
   "name": "python3"
  },
  "language_info": {
   "codemirror_mode": {
    "name": "ipython",
    "version": 3
   },
   "file_extension": ".py",
   "mimetype": "text/x-python",
   "name": "python",
   "nbconvert_exporter": "python",
   "pygments_lexer": "ipython3",
   "version": "3.12.4"
  }
 },
 "nbformat": 4,
 "nbformat_minor": 5
}
