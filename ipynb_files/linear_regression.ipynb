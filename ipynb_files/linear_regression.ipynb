{
 "cells": [
  {
   "metadata": {},
   "cell_type": "markdown",
   "source": [
    "# Linear Regression\n",
    "\n",
    "With the Linear regression method, we are trying to predict the values for 2025\n",
    "\n",
    "For this we are going to first load the data from the dataset"
   ],
   "id": "45452c5c2ec368c8"
  },
  {
   "metadata": {
    "ExecuteTime": {
     "end_time": "2024-10-01T23:59:32.624383Z",
     "start_time": "2024-10-01T23:59:31.008777Z"
    }
   },
   "cell_type": "code",
   "source": [
    "import pandas as pd\n",
    "pd.options.mode.chained_assignment = None  # default='warn'\n",
    "\n",
    "# File paths based on  datasets_mean_median.zip\n",
    "file_mean = \"../datasets/LAEI_2019_NA_FILLED_WITH_MEAN.csv\"\n",
    "file_median = \"../datasets/LAEI_2019_NA_FILLED_WITH_MEDIAN.csv\"\n",
    "\n",
    "# Load the datasets\n",
    "mean_df = pd.read_csv(file_mean)\n",
    "median_df = pd.read_csv(file_median)\n",
    "\n",
    "# Printing the rows\n",
    "print(\"Data with Mean Imputation:\\n\", mean_df.head())\n",
    "print(\"\\nData with Median Imputation:\\n\", median_df.head())"
   ],
   "id": "initial_id",
   "outputs": [
    {
     "name": "stdout",
     "output_type": "stream",
     "text": [
      "Data with Mean Imputation:\n",
      "    Year  Grid ID 2019  LAEI 1km2 ID  Easting  Northing  Borough     Zone  \\\n",
      "0  2030             1          5910   510500    203500  Non GLA  Non GLA   \n",
      "1  2030             2          5911   511500    203500  Non GLA  Non GLA   \n",
      "2  2030             3          5912   512500    203500  Non GLA  Non GLA   \n",
      "3  2030             4          5915   515500    203500  Non GLA  Non GLA   \n",
      "4  2030             5          5916   516500    203500  Non GLA  Non GLA   \n",
      "\n",
      "  Main Source Category   Sector        Source  ...  n2o  nh3  nmvoc  nox  pb  \\\n",
      "0             Domestic  Biomass  Wood Burning  ...  NaN  NaN    NaN  NaN NaN   \n",
      "1             Domestic  Biomass  Wood Burning  ...  NaN  NaN    NaN  NaN NaN   \n",
      "2             Domestic  Biomass  Wood Burning  ...  NaN  NaN    NaN  NaN NaN   \n",
      "3             Domestic  Biomass  Wood Burning  ...  NaN  NaN    NaN  NaN NaN   \n",
      "4             Domestic  Biomass  Wood Burning  ...  NaN  NaN    NaN  NaN NaN   \n",
      "\n",
      "   pcb      pm10     pm2.5  so2  Emissions Unit  \n",
      "0  NaN  0.019183  0.019183  NaN    tonnes/annum  \n",
      "1  NaN  0.015719  0.015719  NaN    tonnes/annum  \n",
      "2  NaN  0.019878  0.019878  NaN    tonnes/annum  \n",
      "3  NaN  0.020946  0.020946  NaN    tonnes/annum  \n",
      "4  NaN  0.020105  0.020105  NaN    tonnes/annum  \n",
      "\n",
      "[5 rows x 30 columns]\n",
      "\n",
      "Data with Median Imputation:\n",
      "    Year  Grid ID 2019  LAEI 1km2 ID  Easting  Northing  Borough     Zone  \\\n",
      "0  2030             1          5910   510500    203500  Non GLA  Non GLA   \n",
      "1  2030             2          5911   511500    203500  Non GLA  Non GLA   \n",
      "2  2030             3          5912   512500    203500  Non GLA  Non GLA   \n",
      "3  2030             4          5915   515500    203500  Non GLA  Non GLA   \n",
      "4  2030             5          5916   516500    203500  Non GLA  Non GLA   \n",
      "\n",
      "  Main Source Category   Sector        Source  ...  n2o  nh3  nmvoc  nox  pb  \\\n",
      "0             Domestic  Biomass  Wood Burning  ...  NaN  NaN    NaN  NaN NaN   \n",
      "1             Domestic  Biomass  Wood Burning  ...  NaN  NaN    NaN  NaN NaN   \n",
      "2             Domestic  Biomass  Wood Burning  ...  NaN  NaN    NaN  NaN NaN   \n",
      "3             Domestic  Biomass  Wood Burning  ...  NaN  NaN    NaN  NaN NaN   \n",
      "4             Domestic  Biomass  Wood Burning  ...  NaN  NaN    NaN  NaN NaN   \n",
      "\n",
      "   pcb      pm10     pm2.5  so2  Emissions Unit  \n",
      "0  NaN  0.019183  0.019183  NaN    tonnes/annum  \n",
      "1  NaN  0.015719  0.015719  NaN    tonnes/annum  \n",
      "2  NaN  0.019878  0.019878  NaN    tonnes/annum  \n",
      "3  NaN  0.020946  0.020946  NaN    tonnes/annum  \n",
      "4  NaN  0.020105  0.020105  NaN    tonnes/annum  \n",
      "\n",
      "[5 rows x 30 columns]\n"
     ]
    }
   ],
   "execution_count": 113
  },
  {
   "metadata": {
    "ExecuteTime": {
     "end_time": "2024-10-01T23:59:33.053706Z",
     "start_time": "2024-10-01T23:59:32.626159Z"
    }
   },
   "cell_type": "code",
   "source": [
    "# Filter dataset to include only years 2013, 2016, and 2019 for training\n",
    "train_data_mean = mean_df[mean_df['Year'].isin([2013, 2016, 2019, 2025])]\n",
    "train_data_median = median_df[median_df['Year'].isin([2013, 2016, 2019, 2025])]\n",
    "\n",
    "### Process Categorical Variables\n",
    "\n",
    "from sklearn.preprocessing import LabelEncoder\n",
    "\n",
    "# Initialize the Label Encoder\n",
    "encoder = LabelEncoder()\n",
    "\n",
    "# Encode 'Main Source Category' using explicit row and column indexing\n",
    "mean_source_encoded = encoder.fit_transform(train_data_mean.loc[:, \"Main Source Category\"])\n",
    "median_source_encoded = encoder.fit_transform(train_data_median.loc[:, \"Main Source Category\"])\n",
    "train_data_mean.loc[:, \"main_source_encoded\"] = mean_source_encoded\n",
    "train_data_median.loc[:, \"main_source_encoded\"] = median_source_encoded\n",
    "\n",
    "pollutants = [\"nox\", \"pm10\", \"pm2.5\", \"co2\"]\n",
    "\n",
    "\n",
    "# Fill missing values with the mean for the mean-imputed dataset\n",
    "for col in pollutants:\n",
    "    train_data_mean.loc[:, col] = train_data_mean[col].fillna(train_data_mean[col].mean())\n",
    "\n",
    "# Fill missing values with the median for the median-imputed dataset\n",
    "for col in pollutants:\n",
    "    train_data_median.loc[:, col] = train_data_median[col].fillna(train_data_median[col].median())"
   ],
   "id": "8d0cdd2914ab9920",
   "outputs": [],
   "execution_count": 114
  },
  {
   "metadata": {},
   "cell_type": "markdown",
   "source": "Defining the function to train the model",
   "id": "2126eecb565f943d"
  },
  {
   "metadata": {
    "ExecuteTime": {
     "end_time": "2024-10-01T23:59:33.059762Z",
     "start_time": "2024-10-01T23:59:33.054904Z"
    }
   },
   "cell_type": "code",
   "source": [
    "\n",
    "from sklearn.linear_model import LinearRegression\n",
    "from sklearn.impute import SimpleImputer\n",
    "import numpy as np\n",
    "import joblib\n",
    "\n",
    "def train_linear_regression_for_all_polutants(X_train_mean, X_train_median, train_data_mean, train_data_median, pollutants):\n",
    "\n",
    "    models_mean = {}\n",
    "    models_median = {}\n",
    "\n",
    "    for pollutant in pollutants:\n",
    "        print(f\"pollutant: {pollutant}\")\n",
    "        # Prepare the target variable for the current pollutant\n",
    "        y_train_mean = train_data_mean[train_data_mean[\"Year\"].isin([2013, 2016, 2019])][pollutant]\n",
    "        y_train_median = train_data_median[train_data_median[\"Year\"].isin([2013, 2016, 2019])][pollutant]\n",
    "\n",
    "        # Apply One-Hot Encoding to the training sets\n",
    "        X_train_mean_encoded = pd.get_dummies(X_train_mean, drop_first=True)\n",
    "        X_train_median_encoded = pd.get_dummies(X_train_median, drop_first=True)\n",
    "\n",
    "        \n",
    "        #Fit linear regression for the mean\n",
    "        linear_regression_mean = LinearRegression()\n",
    "        linear_regression_mean.fit(X_train_mean_encoded, y_train_mean)\n",
    "        models_mean[f\"{pollutant}\"] = linear_regression_mean  # Save the trained model\n",
    "\n",
    "        #Fit linear regression for the median\n",
    "        linear_regression_median = LinearRegression()\n",
    "        linear_regression_median.fit(X_train_median_encoded, y_train_median)\n",
    "        models_median[f\"{pollutant}\"] = linear_regression_median  # Save the trained model\n",
    "\n",
    "    return models_mean, models_median\n",
    "        "
   ],
   "id": "93954ac201c3baf1",
   "outputs": [],
   "execution_count": 115
  },
  {
   "metadata": {},
   "cell_type": "markdown",
   "source": "Running the function to train the model",
   "id": "efc0b6feae01e679"
  },
  {
   "metadata": {
    "ExecuteTime": {
     "end_time": "2024-10-01T23:59:43.966862Z",
     "start_time": "2024-10-01T23:59:33.060696Z"
    }
   },
   "cell_type": "code",
   "source": [
    "X_train_mean = train_data_mean[train_data_mean[\"Year\"].isin([2013, 2016, 2019])].drop(columns=pollutants + [\"bap\", \"cd\", \"c4h6\", \"c6h6\", \"ch4\", \"co\", \"hc\", \"hcl\", \"hg\", \"n2o\", \"nh3\", \"nmvoc\", \"pb\", \"pcb\", \"so2\"])\n",
    "X_train_median = train_data_median[train_data_median[\"Year\"].isin([2013, 2016, 2019])].drop(columns=pollutants + [\"bap\", \"cd\", \"c4h6\", \"c6h6\", \"ch4\", \"co\", \"hc\", \"hcl\", \"hg\", \"n2o\", \"nh3\", \"nmvoc\", \"pb\", \"pcb\", \"so2\"])\n",
    "\n",
    "\n",
    "\n",
    "# Train Random Forest models for each pollutant and save them\n",
    "models_mean, models_median = train_linear_regression_for_all_polutants(X_train_mean, X_train_median, train_data_mean, train_data_median, pollutants)"
   ],
   "id": "bb71466d175e105e",
   "outputs": [
    {
     "name": "stdout",
     "output_type": "stream",
     "text": [
      "pollutant: nox\n",
      "pollutant: pm10\n",
      "pollutant: pm2.5\n",
      "pollutant: co2\n"
     ]
    }
   ],
   "execution_count": 116
  },
  {
   "metadata": {},
   "cell_type": "markdown",
   "source": "After training the model for the different pollutants with the main and the median we are predicting the values for 2025",
   "id": "8dfa3cba19cc5e89"
  },
  {
   "metadata": {
    "ExecuteTime": {
     "end_time": "2024-10-01T23:59:44.407974Z",
     "start_time": "2024-10-01T23:59:43.967871Z"
    }
   },
   "cell_type": "code",
   "source": [
    "X_test_mean = train_data_mean[train_data_mean[\"Year\"].isin([2025])].drop(columns=pollutants + [\"bap\", \"cd\", \"c4h6\", \"c6h6\", \"ch4\", \"co\", \"hc\", \"hcl\", \"hg\", \"n2o\", \"nh3\", \"nmvoc\", \"pb\", \"pcb\", \"so2\"])\n",
    "X_test_median = train_data_median[train_data_median[\"Year\"].isin([2025])].drop(columns=pollutants + [\"bap\", \"cd\", \"c4h6\", \"c6h6\", \"ch4\", \"co\", \"hc\", \"hcl\", \"hg\", \"n2o\", \"nh3\", \"nmvoc\", \"pb\", \"pcb\", \"so2\"])\n",
    "\n",
    "X_test_mean_encoded = pd.get_dummies(X_test_mean, drop_first=True)\n",
    "X_test_median_encoded = pd.get_dummies(X_test_median, drop_first=True)\n",
    "\n",
    "for pollutant in pollutants:\n",
    "    print(f\"Predicting for {pollutant}\")\n",
    "    median_regression_model = models_median[pollutant]\n",
    "    mean_regression_model = models_mean[pollutant]\n",
    "    print(f\"Median {median_regression_model.predict(X_test_median_encoded)}\")\n",
    "    print(f\"Mean {mean_regression_model.predict(X_test_mean_encoded)}\")\n",
    "    \n",
    "    "
   ],
   "id": "1673d251ad434b9d",
   "outputs": [
    {
     "name": "stdout",
     "output_type": "stream",
     "text": [
      "Predicting for nox\n",
      "Median [-0.23480225 -0.23590088 -0.23706055 ...  1.14343262  0.94445801\n",
      "  1.51446533]\n",
      "Mean [0.16882324 0.16766357 0.16662598 ... 1.14337158 0.94439697 1.51434326]\n",
      "Predicting for pm10\n",
      "Median [0.20690918 0.20681763 0.20672607 ... 0.14407349 0.0791626  0.22332764]\n",
      "Mean [0.20690918 0.20681763 0.20675659 ... 0.14407349 0.0791626  0.22332764]\n",
      "Predicting for pm2.5\n",
      "Median [0.21218872 0.21206665 0.21194458 ... 0.06356812 0.04586792 0.08978271]\n",
      "Mean [0.21209717 0.2119751  0.21185303 ... 0.06347656 0.04580688 0.08969116]\n",
      "Predicting for co2\n",
      "Median [-37.6875 -38.5625 -39.4375 ... 443.25   356.5625 484.25  ]\n",
      "Mean [230.375 229.5   228.625 ... 443.25  356.625 484.25 ]\n"
     ]
    }
   ],
   "execution_count": 117
  },
  {
   "metadata": {
    "ExecuteTime": {
     "end_time": "2024-10-01T23:59:44.410297Z",
     "start_time": "2024-10-01T23:59:44.408675Z"
    }
   },
   "cell_type": "code",
   "source": "",
   "id": "91181c71665dc71a",
   "outputs": [],
   "execution_count": 117
  }
 ],
 "metadata": {
  "kernelspec": {
   "display_name": "Python 3",
   "language": "python",
   "name": "python3"
  },
  "language_info": {
   "codemirror_mode": {
    "name": "ipython",
    "version": 2
   },
   "file_extension": ".py",
   "mimetype": "text/x-python",
   "name": "python",
   "nbconvert_exporter": "python",
   "pygments_lexer": "ipython2",
   "version": "2.7.6"
  }
 },
 "nbformat": 4,
 "nbformat_minor": 5
}
